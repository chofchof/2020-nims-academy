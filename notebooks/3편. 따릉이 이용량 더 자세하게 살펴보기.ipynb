{
 "cells": [
  {
   "cell_type": "code",
   "execution_count": null,
   "metadata": {},
   "outputs": [],
   "source": [
    "import numpy as np\n",
    "import pandas as pd\n",
    "import matplotlib as mpl\n",
    "import matplotlib.pyplot as plt\n",
    "import seaborn as sns\n",
    "\n",
    "# 이미지에 들어가는 한글을 제대로 보기 위해 한글 폰트 적용\n",
    "import platform\n",
    "font_dict = {\n",
    "    'Linux': 'Noto Sans CJK KR',\n",
    "    'Darwin': 'Apple SD Gothic Neo', # macOS\n",
    "    'Windows': 'Malgun Gothic' # MS-Windows\n",
    "}\n",
    "try:\n",
    "    mpl.rc('font', family=font_dict[platform.system()])\n",
    "except:\n",
    "    pass\n",
    "mpl.rc('axes', unicode_minus=False)\n",
    "\n",
    "%matplotlib inline"
   ]
  },
  {
   "cell_type": "markdown",
   "metadata": {},
   "source": [
    "# [All about 따릉이 EDA, 3편] 따릉이 이용량 더 자세하게 살펴보기 by 흠시\n",
    "\n",
    "**출처:** https://dailyheumsi.tistory.com/88\n",
    "\n",
    "**데이터:** 서울특별시 공공자전거 대여이력 정보 @[서울 열린데이터 광장](https://data.seoul.go.kr)\n",
    "  - 자전거 이동경로에 대한 데이터 분석이 가능하도록 년도별, 대여소별, 자전거별 대여이력 원천 데이터를 제공\n",
    "  - https://data.seoul.go.kr/dataList/OA-15182/F/1/datasetView.do\n",
    "  - `서울특별시 공공자전거 대여정보_201905.csv` (용량 299.3MB, 수정일 2019.06.15)"
   ]
  },
  {
   "cell_type": "markdown",
   "metadata": {},
   "source": [
    "> [흠시] 이전 글에 이어, 이번에는 좀 더 딥하게 탐색해보기로 한다.  \n",
    "이전에는 15년 9월 - 18년 11월의 일일 데이터를 다루었다면,   \n",
    "이번에는**가장 최근에 이용량이 많았던** **19년 5월 시간별 데이터**만 보기로 한다. \n",
    "\n",
    "> [흠시] 이제부터는 요일, 시간 단위의 데이터를 볼 수 있다.  \n",
    "덧붙여, 아무래도 이전 글과 다른 데이터라, 별도로 글을 나누어 써본다."
   ]
  },
  {
   "cell_type": "code",
   "execution_count": null,
   "metadata": {},
   "outputs": [],
   "source": [
    "# 데이터 로드: 원본 데이터는 크기가 너무 크므로 압축된 데이터를 불러온다.\n",
    "#   서울특별시 공공자전거 대여정보_201905.csv.gz (76.3MB)\n",
    "\n",
    "from pathlib import Path\n",
    "\n",
    "데이터_폴더 = Path('../data')\n",
    "공공자전거_대여정보_201905 = 데이터_폴더 / '서울특별시 공공자전거 대여정보_201905.csv.gz'\n",
    "\n",
    "df = pd.read_csv(공공자전거_대여정보_201905, encoding='cp949')\n",
    "df.head()"
   ]
  },
  {
   "cell_type": "code",
   "execution_count": null,
   "metadata": {},
   "outputs": [],
   "source": [
    "# 데이터 파일의 첫 줄에 헤더 정보가 없으므로, 컬럼 명을 직접 넣어주어야 한다.\n",
    "\n",
    "df = pd.read_csv(공공자전거_대여정보_201905,\n",
    "    encoding='cp949',\n",
    "    names=['자전거번호',\n",
    "           '대여일시', '대여대여소번호', '대여대여소명', '대여거치대',\n",
    "           '반납일시', '반납대여소번호', '반납대여소명', '반납거치대',\n",
    "           '이용시간', '이용거리'],\n",
    "    parse_dates=['대여일시', '반납일시']\n",
    ")\n",
    "df.head()"
   ]
  },
  {
   "cell_type": "code",
   "execution_count": null,
   "metadata": {},
   "outputs": [],
   "source": [
    "df.tail()"
   ]
  },
  {
   "cell_type": "code",
   "execution_count": null,
   "metadata": {},
   "outputs": [],
   "source": [
    "# 대여일시와 반납일시에서 날짜(day), 요일(dayofweek), 시간(hour)을 분리하자.\n",
    "# https://pandas.pydata.org/pandas-docs/stable/user_guide/basics.html#basics-dt-accessors\n",
    "    \n",
    "df['대여일'] = df['대여일시'].dt.day\n",
    "df['대여요일'] = df['대여일시'].dt.dayofweek\n",
    "df['대여시간'] = df['대여일시'].dt.hour\n",
    "df['반납시간'] = df['반납일시'].dt.hour"
   ]
  },
  {
   "cell_type": "code",
   "execution_count": null,
   "metadata": {},
   "outputs": [],
   "source": [
    "df.info(memory_usage='deep')"
   ]
  },
  {
   "cell_type": "code",
   "execution_count": null,
   "metadata": {},
   "outputs": [],
   "source": [
    "# [흠시] 대여소 번호는 있는데, 어떤 지역인지 모른다.....  \n",
    "# 그래서 대여소 정보 데이터를 가져와서 합쳐야 한다.\n",
    "\n",
    "공공자전거_대여소_정보_데이터 = 데이터_폴더 / '서울특별시 공공자전거 대여소 정보(19.12.9).xlsx'\n",
    "\n",
    "rental = pd.read_excel(공공자전거_대여소_정보_데이터,\n",
    "    index_col='대여소ID',\n",
    "    usecols=['대여소_구', '대여소ID', '위도', '경도'],\n",
    "    dtype={'대여소_구': 'category'},\n",
    "    skipfooter=1\n",
    ")\n",
    "rental.head()"
   ]
  },
  {
   "cell_type": "code",
   "execution_count": null,
   "metadata": {},
   "outputs": [],
   "source": [
    "# 대여지역을 먼저 합쳐보자.\n",
    "\n",
    "before_merged = len(df)\n",
    "\n",
    "df = df.merge(rental,\n",
    "    left_on='대여대여소번호',\n",
    "    right_index=True\n",
    ").rename(\n",
    "    columns={\n",
    "        \"대여소_구\": \"대여지역\",\n",
    "        \"위도\": \"대여대여소위도\",\n",
    "        \"경도\": \"대여대여소경도\"\n",
    "    }\n",
    ")\n",
    "df.head()"
   ]
  },
  {
   "cell_type": "code",
   "execution_count": null,
   "metadata": {},
   "outputs": [],
   "source": [
    "# 반납지역도 합쳐보자.\n",
    "\n",
    "df = df.merge(rental,\n",
    "    left_on='반납대여소번호',\n",
    "    right_index=True\n",
    ").rename(\n",
    "    columns={\n",
    "        \"대여소_구\": \"반납지역\",\n",
    "        \"위도\": \"반납대여소위도\",\n",
    "        \"경도\": \"반납대여소경도\"\n",
    "    }\n",
    ")\n",
    "df.head()"
   ]
  },
  {
   "cell_type": "code",
   "execution_count": null,
   "metadata": {},
   "outputs": [],
   "source": [
    "# [흠시] 2% 데이터를 잃었지만, 이 정도는 그냥 넘어가본다.\n",
    "\n",
    "after_merged = len(df)\n",
    "loss = before_merged - after_merged\n",
    "\n",
    "print(df.shape)\n",
    "print(f\"{loss} loss. ({loss / before_merged * 100:.2f}%)\")\n",
    "\n",
    "df.info(memory_usage='deep')"
   ]
  },
  {
   "cell_type": "markdown",
   "metadata": {},
   "source": [
    "---\n",
    "## 1. 어떤 요일, 시간에 이용량이 많았을까?\n",
    "\n",
    "> [흠시] 가장 쉽게 떠오를 수 있는 질문이다.  \n",
    "요일, 시간, 그리고 지역별로 하나씩 살펴보자."
   ]
  },
  {
   "cell_type": "markdown",
   "metadata": {},
   "source": [
    "### 1.1. 요일별 이용량"
   ]
  },
  {
   "cell_type": "code",
   "execution_count": null,
   "metadata": {},
   "outputs": [],
   "source": [
    "# df.groupby('대여요일').size() == df['대여요일'].value_counts(sort=False, dropna=False)\n",
    "\n",
    "use_by_dayofweek = df.groupby('대여요일').size()\n",
    "use_by_dayofweek.index = \"월 화 수 목 금 토 일\".split()\n",
    "use_by_dayofweek"
   ]
  },
  {
   "cell_type": "code",
   "execution_count": null,
   "metadata": {},
   "outputs": [],
   "source": [
    "ax = use_by_dayofweek.plot.bar(\n",
    "    rot=0,\n",
    "    title=\"요일에 따른 이용량\",\n",
    "    figsize=(10, 4)\n",
    ")\n",
    "ax.set_frame_on(False)"
   ]
  },
  {
   "cell_type": "markdown",
   "metadata": {},
   "source": [
    "> [흠시]  \n",
    "> **평일보다 주말 이용량이 더 많은 것을 알 수 있다.**  \n",
    "또, 평일 중엔 화요일 수요일이.  \n",
    "주말에는 토요일 이용량이 많다."
   ]
  },
  {
   "cell_type": "code",
   "execution_count": null,
   "metadata": {},
   "outputs": [],
   "source": [
    "# 평일과 주말을 기준으로 비교해 보자.\n",
    "\n",
    "mean_weekday = use_by_dayofweek.loc[\"월 화 수 목 금\".split()].mean()\n",
    "mean_weekend = use_by_dayofweek.loc[\"토 일\".split()].mean()\n",
    "\n",
    "mean_weekday, mean_weekend"
   ]
  },
  {
   "cell_type": "code",
   "execution_count": null,
   "metadata": {},
   "outputs": [],
   "source": [
    "ax = pd.Series(\n",
    "    data=[mean_weekday, mean_weekend],\n",
    "    index=[\"평일\", \"주말\"]\n",
    ").plot.bar(\n",
    "    rot=0,\n",
    "    title=\"평일, 주말 평균 이용량 비교\",\n",
    "    figsize=(10, 4)\n",
    ")\n",
    "ax.set_frame_on(False)"
   ]
  },
  {
   "cell_type": "code",
   "execution_count": null,
   "metadata": {},
   "outputs": [],
   "source": [
    "diff = (mean_weekend - mean_weekday) / mean_weekday * 100\n",
    "print(f\"주말이 평일대비 {diff:.1f}% 더 많다.\")"
   ]
  },
  {
   "cell_type": "markdown",
   "metadata": {},
   "source": [
    "### 1.2. 시간별 이용량\n",
    "\n",
    "> [흠시] 평일과 주말에 따라 패턴이 다를 듯하여, 두 경우로 나누어 시각화 해보았다."
   ]
  },
  {
   "cell_type": "code",
   "execution_count": null,
   "metadata": {},
   "outputs": [],
   "source": [
    "# 평일\n",
    "\n",
    "ax = pd.DataFrame(\n",
    "    data={\n",
    "        \"대여량\": df[df['대여요일'] < 5].groupby('대여시간').size() // 5,\n",
    "        \"반납량\": df[df['대여요일'] < 5].groupby('반납시간').size() // 5\n",
    "    }\n",
    ").plot.bar(\n",
    "    rot=0,\n",
    "    xlabel=\"시\",\n",
    "    title=\"시간에 따른 평균 이용량(평일)\",\n",
    "    figsize=(10, 4)\n",
    ")\n",
    "ax.set_frame_on(False)\n",
    "ax.legend(frameon=False);"
   ]
  },
  {
   "cell_type": "code",
   "execution_count": null,
   "metadata": {},
   "outputs": [],
   "source": [
    "# 주말\n",
    "\n",
    "ax = pd.DataFrame(\n",
    "    data={\n",
    "        \"대여량\": df[df['대여요일'] >= 5].groupby('대여시간').size() // 2,\n",
    "        \"반납량\": df[df['대여요일'] >= 5].groupby('반납시간').size() // 2\n",
    "    }\n",
    ").plot.bar(\n",
    "    rot=0,\n",
    "    xlabel=\"시\",\n",
    "    title=\"시간에 따른 평균 이용량(주말)\",\n",
    "    figsize=(10, 4)\n",
    ")\n",
    "ax.set_frame_on(False)\n",
    "ax.legend(frameon=False);"
   ]
  },
  {
   "cell_type": "markdown",
   "metadata": {},
   "source": [
    "> [흠시] 다음과 같은 사실들을 알 수 있다.  \n",
    "> - **평일의 경우, 대여/반납 시간대가 모두 8시와 18시에 몰려있다.** 주로 출퇴근 시간에 몰린듯 하다.\n",
    "> - **주말의 경우, 밤시간대로 갈수록 몰린다.** 주로 18시 전후로 최고치를 찍는다. 해가 서서히 지는 시간대에 주로 타려고 하는 걸까?\n",
    "> - 한편, 출근시간 제외하고, 일반적으로 **낮에는 대여량 > 반납량이고, 밤에는 그 반대**다.\n",
    "\n",
    "> [흠시] 그런데, 위와 같은 패턴이 모든 지역에 다 동일하게 드러날까? 이것도 확인해보자."
   ]
  },
  {
   "cell_type": "markdown",
   "metadata": {},
   "source": [
    "### 1.3. 시간에 따른 지역구별 이용량\n",
    "\n",
    "> [흠시] 시간에 따른 각 지역구별 이용량을 히트맵으로 살펴보자.  \n",
    "주말은 일단 제외하고, 평일만 살펴보도록 한다."
   ]
  },
  {
   "cell_type": "markdown",
   "metadata": {},
   "source": [
    "![](reshaping_stack.png)\n",
    "![](reshaping_unstack.png)\n",
    "- **출처:** https://pandas.pydata.org/pandas-docs/stable/user_guide/reshaping.html#reshaping-by-stacking-and-unstacking"
   ]
  },
  {
   "cell_type": "code",
   "execution_count": null,
   "metadata": {},
   "outputs": [],
   "source": [
    "# 대여\n",
    "\n",
    "_df = df[df['대여요일'] < 5].groupby(['대여지역', '대여시간']).size() // 5\n",
    "_df"
   ]
  },
  {
   "cell_type": "code",
   "execution_count": null,
   "metadata": {},
   "outputs": [],
   "source": [
    "pvt_table = _df.unstack()\n",
    "pvt_table.head()"
   ]
  },
  {
   "cell_type": "code",
   "execution_count": null,
   "metadata": {},
   "outputs": [],
   "source": [
    "_, ax = plt.subplots(figsize=(15, 10))\n",
    "sns.heatmap(pvt_table,\n",
    "    annot=True,\n",
    "    fmt='d',\n",
    "    cmap=\"Blues\",\n",
    "    cbar=False,\n",
    "    linewidth=0.5,\n",
    "    ax=ax\n",
    ")\n",
    "ax.set_title(\"지역별 시간에 따른 평균 대여량(평일)\")\n",
    "ax.set_ylabel(\"\");"
   ]
  },
  {
   "cell_type": "code",
   "execution_count": null,
   "metadata": {},
   "outputs": [],
   "source": [
    "# 반납\n",
    "\n",
    "pvt_table = (\n",
    "    df[df['대여요일'] < 5].groupby(['반납지역', '반납시간']).size() // 5\n",
    ").unstack()\n",
    "\n",
    "_, ax = plt.subplots(figsize=(15, 10))\n",
    "sns.heatmap(pvt_table,\n",
    "    annot=True,\n",
    "    fmt='d',\n",
    "    cmap=\"Oranges\",\n",
    "    cbar=False,\n",
    "    linewidth=0.5,\n",
    "    ax=ax\n",
    ")\n",
    "ax.set_title(\"지역별 시간에 따른 평균 반냡량(평일)\")\n",
    "ax.set_ylabel(\"\");"
   ]
  },
  {
   "cell_type": "markdown",
   "metadata": {},
   "source": [
    "> [흠시] 나란히 두어, 보기 좀 복잡할 수 있지만, 발견할 수 있는 가장 간단한 사실은,  \n",
    "**예외 없이, 전 지역에서 동일한 시간대별 이용량 패턴**을 가진다는 것이다.\n",
    "\n",
    "> [흠시] 특히, 출/퇴근 시간에 색이 진하게 그려져있는 것이 인상적인데, 여기서 다음과 같은 생각이 들었다.  \n",
    "출근시간에 대여량이 반냡량보다 높은 지역은 어딜까?  \n",
    "또, 반대로 반냡랑이 대여량보다 높은 지역은 어딜까?  \n",
    "일반화 하면, 다음과 같은 질문이다.  \n",
    "> > 출퇴근 시간에, 이용량 중 대여 혹은 반납이 집중되는 지역이 있을까?\n",
    "\n",
    "> [흠시] 이를 알아보기 위해, 위 데이터에서 출/퇴근 시간의 피크인 8시, 18시만 가져와보자.  \n",
    "그리고, 이용량 중, 대여와 반납의 비율을 살펴보자."
   ]
  },
  {
   "cell_type": "code",
   "execution_count": null,
   "metadata": {},
   "outputs": [],
   "source": [
    "# 아래 pvt_table에서 각 대여지역의 8시 데이터만 가져와보자.\n",
    "\n",
    "pvt_table = (\n",
    "    df[df['대여요일'] < 5].groupby(['대여지역', '대여시간']).size() // 5\n",
    ")\n",
    "pvt_table.xs(8, level=1)"
   ]
  },
  {
   "cell_type": "code",
   "execution_count": null,
   "metadata": {},
   "outputs": [],
   "source": [
    "# 대여\n",
    "\n",
    "rent = pd.DataFrame(\n",
    "#    data={8: pvt_table.xs(8, level=1), 18: pvt_table.xs(18, level=1)}\n",
    "    data=[pvt_table.xs(8, level=1), pvt_table.xs(18, level=1)], index=[8, 18]\n",
    ")\n",
    "rent"
   ]
  },
  {
   "cell_type": "code",
   "execution_count": null,
   "metadata": {},
   "outputs": [],
   "source": [
    "# 반납\n",
    "\n",
    "pvt_table = (\n",
    "    df[df['대여요일'] < 5].groupby(['반납지역', '반납시간']).size() // 5\n",
    ")\n",
    "rtrn = pd.DataFrame(\n",
    "    data = [pvt_table.xs(8, level=1), pvt_table.xs(18, level=1)],\n",
    "    index=[8, 18]\n",
    ")\n",
    "rtrn"
   ]
  },
  {
   "cell_type": "code",
   "execution_count": null,
   "metadata": {},
   "outputs": [],
   "source": [
    "total = rent + rtrn\n",
    "total"
   ]
  },
  {
   "cell_type": "code",
   "execution_count": null,
   "metadata": {},
   "outputs": [],
   "source": [
    "rent = rent / total\n",
    "rtrn = rtrn / total"
   ]
  },
  {
   "cell_type": "code",
   "execution_count": null,
   "metadata": {},
   "outputs": [],
   "source": [
    "morning_diff = pd.DataFrame(\n",
    "    data={'대여': rent.loc[8], '반납': rtrn.loc[8]}\n",
    ").sort_values('대여')\n",
    "morning_diff"
   ]
  },
  {
   "cell_type": "code",
   "execution_count": null,
   "metadata": {},
   "outputs": [],
   "source": [
    "dinner_diff = pd.DataFrame(\n",
    "    data={'대여': rent.loc[18], '반납': rtrn.loc[18]}\n",
    ").sort_values('대여')\n",
    "dinner_diff"
   ]
  },
  {
   "cell_type": "code",
   "execution_count": null,
   "metadata": {},
   "outputs": [],
   "source": [
    "fig, axes = plt.subplots(1, 2, figsize=(15, 10))\n",
    "\n",
    "for i, (diff, time_name) in enumerate(\n",
    "    zip([morning_diff, dinner_diff], [\"출근시간(8시)\", \"퇴근시간(18시)\"])\n",
    "):\n",
    "    ax = diff.plot.barh(\n",
    "        stacked=True,\n",
    "        color=['C0', 'C1'],\n",
    "        title=f\"{time_name}에 사용량 비율\",\n",
    "        ax=axes[i]\n",
    "    )\n",
    "    for p in ax.patches: \n",
    "        x, y, width, height = p.get_bbox().bounds \n",
    "        ax.annotate(f\"{width*100:.1f}%\", (x+width/2, y+height/2), ha='center', va='center')\n",
    "    ax.set_xticks([])\n",
    "    ax.set_frame_on(False)\n",
    "\n",
    "axes[0].get_legend().remove()\n",
    "axes[1].legend(loc='center left', bbox_to_anchor=(1, 0.5), frameon=False)\n",
    "fig.tight_layout()"
   ]
  },
  {
   "cell_type": "markdown",
   "metadata": {},
   "source": [
    "> [흠시] 출근시간엔, **서대문구**가 대여량이 반납량보다 **전체의 약 27%** 정도 많았다.  \n",
    "퇴근시간엔, **금천구**가 대여량이 반납량보다 **전체의 20%** 정도 많았다.\n",
    "\n",
    "> [흠시] 하지만 위의 두 플롯은 y축의 순서가 달라, 지역별로 출퇴근 시간의 이용량을 비교하기 힘들다.  \n",
    "이를 위해 아래와 같이 다시 시각해해보자.  \n",
    "반납량 = 이용량 - 대여량이므로, 보기 쉽게 대여량만 시각화해본다."
   ]
  },
  {
   "cell_type": "code",
   "execution_count": null,
   "metadata": {},
   "outputs": [],
   "source": [
    "morning_dinner_diff = pd.DataFrame(\n",
    "    data={'출근시간': morning_diff['대여'], '퇴근시간': dinner_diff['대여']}\n",
    ").sort_values('출근시간', ascending=False)\n",
    "\n",
    "ax = morning_dinner_diff.plot.bar(\n",
    "    rot=0,\n",
    "    color=['royalblue', 'midnightblue'],\n",
    "    title=\"출퇴근 시간, 지역별 사용량 중 대여비율\",\n",
    "    figsize=(15, 4)\n",
    ")\n",
    "ax.set_frame_on(False)\n",
    "ax.legend(frameon=False);"
   ]
  },
  {
   "cell_type": "markdown",
   "metadata": {},
   "source": [
    "> [흠시] 잘보면, 출근시간 막대그래프는 점점 내려가는데, 퇴근시간 막대그래프는 점점 올라가는 추세다.  \n",
    "즉, **출근시간에 대여비중이 높았던 지역은, 퇴근시간에는 반납비중이 높다. (상관계수가 0.8로 나온다.)**  \n",
    "이를 쉽게 해석하면, 이용자들이 거주지 -> 근무지로 이동하는 것으로 상상해볼 수 있다.  \n",
    "**즉, 거주지역은 출근시간 대여량이 높고, 근무지역은 퇴근시간 대여량이 높은 것이다.**  \n",
    "어느정도 상식선의 이야기다.\n",
    "\n",
    "> [흠시] 이러한 관점에서 보면, 각 지역에서 타지역으로가는 유출/유입에 대해서도 생각해볼 수 있는데, 이에 관한 이야기는 뒤에 적어보도록 하겠다."
   ]
  },
  {
   "cell_type": "markdown",
   "metadata": {},
   "source": [
    "---\n",
    "## 2. 요일별로 이용량이 높은 지역은 고정되어있을까?\n",
    "\n",
    "> [흠시] 위 히트맵에서, 시간대별로 모든 지역이 같은 이용량 패턴을 가지고 있음을 확인했다.  \n",
    "또한, 각 지역들의 이용량을 수치적으로 확인하고, 어디가 많고 적은지 알 수 있었다.  \n",
    "그렇다면, 이용량이 많은 지역들은 일주일 내내 많을까?  \n",
    "즉, 이용량이 많은 지역은 고정적일까?"
   ]
  },
  {
   "cell_type": "markdown",
   "metadata": {},
   "source": [
    "### 2.1. 요일별, 지역의 이용량 순위"
   ]
  },
  {
   "cell_type": "code",
   "execution_count": null,
   "metadata": {},
   "outputs": [],
   "source": [
    "# 요일별 대여지역의 이용량\n",
    "\n",
    "use_by_region = df.pivot_table(\n",
    "    index='대여지역',\n",
    "    columns='대여요일',\n",
    "    aggfunc='size'\n",
    ") + df.pivot_table(\n",
    "    index='반납지역',\n",
    "    columns='대여요일',\n",
    "    aggfunc='size'\n",
    ")\n",
    "use_by_region"
   ]
  },
  {
   "cell_type": "code",
   "execution_count": null,
   "metadata": {},
   "outputs": [],
   "source": [
    "# 요일별 대여지역의 이용량 순위\n",
    "\n",
    "use_by_region_rank = (use_by_region\n",
    "    .rank()\n",
    "    .sort_values(by=0, ascending=False)\n",
    ")\n",
    "use_by_region_rank"
   ]
  },
  {
   "cell_type": "code",
   "execution_count": null,
   "metadata": {},
   "outputs": [],
   "source": [
    "# 요일에 따라서 지역별 사용량 순위가 달라질까?\n",
    "\n",
    "xticks = \"월 화 수 목 금 토 일\".split()\n",
    "yticks = list(use_by_region_rank.index)\n",
    "\n",
    "ax = use_by_region_rank.T.plot.line(\n",
    "    style='.-',\n",
    "    legend=False,\n",
    "    xlabel=\"\",\n",
    "    xticks=range(len(xticks)),\n",
    "    yticks=range(len(yticks)),\n",
    "    title=\"요일별 사용량 높은 지역 순위\",\n",
    "    figsize=(15, 10))\n",
    "ax.set_xticklabels(xticks)\n",
    "ax.set_yticklabels(reversed(yticks))\n",
    "ax.set_frame_on(False)"
   ]
  },
  {
   "cell_type": "markdown",
   "metadata": {},
   "source": [
    "> [흠시] 비교적 순위 변동이 없다. 바뀌어봐야 대부분 1~2등수 바뀌는 수준이다.  \n",
    "즉, **요일에 상관없이, 이용량이 많은 지역은 고정적이라고 볼 수 있다.**"
   ]
  },
  {
   "cell_type": "code",
   "execution_count": null,
   "metadata": {},
   "outputs": [],
   "source": [
    "# [흠시] 평일이든, 주말이든, 이용률이 높은 지역은 고정되어있다. 차이의 변화도 그다지 없다.\n",
    "\n",
    "weekday = [0, 1, 2, 3, 4]\n",
    "weekend = [5, 6]\n",
    "\n",
    "fig, axes = plt.subplots(1, 2, figsize=(15, 10))\n",
    "\n",
    "for i, (dayofweek, name) in enumerate(\n",
    "    zip([weekday, weekend], [\"평일\", \"주말\"])\n",
    "):\n",
    "    rental_by_region = df[df['대여요일'].isin(dayofweek)].groupby('대여지역').size()\n",
    "    return_by_region = df[df['대여요일'].isin(dayofweek)].groupby('반납지역').size()\n",
    "\n",
    "    use_by_region = pd.DataFrame(\n",
    "        data={\n",
    "            \"대여\": rental_by_region,\n",
    "            \"반납\": return_by_region\n",
    "        }\n",
    "    ).sort_values(\"대여\", ascending=True)\n",
    "\n",
    "    ax = use_by_region.plot.barh(\n",
    "        rot=0,\n",
    "        title=f\"지역별 이용량({name})\",\n",
    "        ax=axes[i]\n",
    "    )\n",
    "    ax.set_frame_on(False)\n",
    "\n",
    "axes[0].get_legend().remove()\n",
    "axes[1].legend(loc=\"right\", frameon=False)\n",
    "fig.tight_layout()"
   ]
  },
  {
   "cell_type": "markdown",
   "metadata": {},
   "source": [
    "---\n",
    "## 3. 평균 이용거리, 이용시간이 높은 지역은 어딜까?\n",
    "\n",
    "> [흠시] 어떤 지역에 평균 이용거리, 이용시간이 높다는 말은, 장거리 이동 또는 오래 이용하는 이용자가 많다는 뜻이다.  \n",
    "이용거리부터 하나씩 살펴보자."
   ]
  },
  {
   "cell_type": "markdown",
   "metadata": {},
   "source": [
    "### 3.1. 이동거리\n",
    "\n",
    "> [흠시] 먼저 이용거리 전체 분포를 boxplot 과 distplot 으로 보자."
   ]
  },
  {
   "cell_type": "code",
   "execution_count": null,
   "metadata": {},
   "outputs": [],
   "source": [
    "# 전체 분포\n",
    "\n",
    "distance = df['이용거리']\n",
    "distance"
   ]
  },
  {
   "cell_type": "code",
   "execution_count": null,
   "metadata": {},
   "outputs": [],
   "source": [
    "# 0인 값 제외\n",
    "\n",
    "distance = distance[distance != 0]\n",
    "distance"
   ]
  },
  {
   "cell_type": "code",
   "execution_count": null,
   "metadata": {},
   "outputs": [],
   "source": [
    "# https://en.wikipedia.org/wiki/Box_plot\n",
    "\n",
    "def draw_box_distplot(series, title, xlabel, axvline=False, color='C0', bins=100):\n",
    "    # Cut the window in 2 parts\n",
    "    f, (ax_box, ax_hist) = plt.subplots(\n",
    "        nrows=2,\n",
    "        sharex=True,\n",
    "        figsize=(15, 4),\n",
    "        gridspec_kw={\"height_ratios\": (.15, .85)}\n",
    "    )\n",
    "\n",
    "    # Add a graph in each part\n",
    "    sns.boxplot(x=series, ax=ax_box, boxprops={'alpha': 0.6}, color=color)\n",
    "    sns.histplot(data=series, stat='density', kde=True, linewidth=0, ax=ax_hist, color=color, bins=bins)\n",
    "\n",
    "    # Remove x axis name for the boxplot\n",
    "    ax_box.set_xlabel(\"\")\n",
    "    ax_box.set_title(title)\n",
    "    ax_box.set_frame_on(False)\n",
    "\n",
    "    ax_hist.set_xlabel(xlabel)\n",
    "    ax_hist.set_ylabel(\"\")\n",
    "    ax_hist.set_frame_on(False)\n",
    "    \n",
    "    if axvline:\n",
    "        ax_hist.axvline(series.mean(), color='green')\n",
    "        ax_hist.axvline(series.value_counts().idxmax(), color='red')\n",
    "        ax_hist.axvline(series.median(), color='blue')\n",
    "    \n",
    "    fig.tight_layout()\n",
    "    \n",
    "draw_box_distplot(distance, \"이용거리(m) 분포\", \"이용거리(m)\", color='purple')"
   ]
  },
  {
   "cell_type": "markdown",
   "metadata": {},
   "source": [
    "> [흠시] 꽤 많은 극단치들이 있어서, 굉장히 skewed 되어있다.  \n",
    "이대로도 의미가 있기는 하겠지만, 일반적인 상황에 대해 분석하기가 힘드므로, 극단치들을 잘라내고 다시 그려보자."
   ]
  },
  {
   "cell_type": "code",
   "execution_count": null,
   "metadata": {},
   "outputs": [],
   "source": [
    "def remove_outlier(series):\n",
    "    q1 = series.quantile(0.25)\n",
    "    q3 = series.quantile(0.75)\n",
    "    iqr = q3 - q1 # Interquartile range\n",
    "    fence_low  = q1 - 1.5 * iqr\n",
    "    fence_high = q3 + 1.5 * iqr\n",
    "    series_out = series.loc[(series > fence_low) & (series < fence_high)]\n",
    "    return series_out\n",
    "\n",
    "distance = remove_outlier(distance)\n",
    "draw_box_distplot(distance, \"이용거리(m) 분포\", \"이용거리(m)\", axvline=True, color='purple')"
   ]
  },
  {
   "cell_type": "code",
   "execution_count": null,
   "metadata": {},
   "outputs": [],
   "source": [
    "# 빨간선은 최빈값, 파란선은 중간값, 초록선은 평균을 나타낸다.\n",
    "\n",
    "print(f\"최빈값: {distance.value_counts().idxmax():.0f}m\")\n",
    "print(f\"중간값: {distance.median():.0f}m\")\n",
    "print(f\"절사평균(5~95%): {distance.mean():.0f}m\")"
   ]
  },
  {
   "cell_type": "markdown",
   "metadata": {},
   "source": [
    "> [흠시] 그럼에도 skewed 되어있기는한데, 중간값은 2400m다.  \n",
    "최빈값은 910m로, 일반적인 라이트 유저(?)라면 이 정도 거리를 타는 듯 하다.\n",
    "\n",
    "> [흠시] 지역별로 살펴보면,"
   ]
  },
  {
   "cell_type": "code",
   "execution_count": null,
   "metadata": {},
   "outputs": [],
   "source": [
    "# 지역별 평균 이용 거리\n",
    "\n",
    "distance = df[['대여지역', '이용거리']]\n",
    "distance = distance[distance['이용거리'] != 0] # 0인 값 제외\n",
    "distance.head()"
   ]
  },
  {
   "cell_type": "code",
   "execution_count": null,
   "metadata": {},
   "outputs": [],
   "source": [
    "# https://pandas.pydata.org/pandas-docs/stable/reference/api/pandas.DataFrame.squeeze.html\n",
    "\n",
    "medians = (distance\n",
    "    .groupby('대여지역')\n",
    "    .median()\n",
    "    .squeeze() # DataFrame (1 column) -> Series\n",
    "    .sort_values(ascending=False)\n",
    ")\n",
    "medians.head()"
   ]
  },
  {
   "cell_type": "code",
   "execution_count": null,
   "metadata": {},
   "outputs": [],
   "source": [
    "for idx, df in distance.groupby('대여지역'):\n",
    "    print(idx)\n",
    "    print(df)\n",
    "    break"
   ]
  },
  {
   "cell_type": "code",
   "execution_count": null,
   "metadata": {},
   "outputs": [],
   "source": [
    "distance_df_total = (distance\n",
    "    .groupby('대여지역')\n",
    "    .apply(lambda df: remove_outlier(df['이용거리']))\n",
    "    .reset_index(level=0) # remove index level 0\n",
    ")\n",
    "distance_df_total"
   ]
  },
  {
   "cell_type": "code",
   "execution_count": null,
   "metadata": {},
   "outputs": [],
   "source": [
    "# [흠시] 중간값을 기준으로 정렬했다.\n",
    "# https://en.wikipedia.org/wiki/Violin_plot\n",
    "\n",
    "_, ax = plt.subplots(figsize=(15, 4))\n",
    "sns.violinplot(\n",
    "    x='대여지역',\n",
    "    y='이용거리',\n",
    "    data=distance_df_total,\n",
    "    order=medians.index,\n",
    "    palette=\"Purples_r\",\n",
    "    ax=ax\n",
    ")\n",
    "ax.set_frame_on(False)"
   ]
  },
  {
   "cell_type": "code",
   "execution_count": null,
   "metadata": {},
   "outputs": [],
   "source": [
    "_, ax = plt.subplots(figsize=(15, 4))\n",
    "sns.barplot(\n",
    "    x='대여지역',\n",
    "    y='이용거리',\n",
    "    data=medians.reset_index(),\n",
    "    palette=\"Purples_r\",\n",
    "    ax=ax\n",
    ")\n",
    "ax.set_xlabel(\"\")\n",
    "ax.set_ylabel(\"\")\n",
    "ax.set_title(\"지역별 이용거리(m) 중간값\")\n",
    "ax.set_frame_on(False)"
   ]
  },
  {
   "cell_type": "markdown",
   "metadata": {},
   "source": [
    "> [흠시]  \n",
    "> - 일단 모든 지역에서 분포가 skewed 하다.\n",
    "> - 평균 이용거리가 큰 상위 지역들은, 중간값도 크지만, 극단치도 컸다. 일반적으로 다른지역들 보다 헤비하다(?)고 볼 수 있겠다.\n",
    "> - 양천구의 경우, 중간값은 낮은편이지만, 꽤 높은 극단치들이 있다. 일부 사용자들이 굉장히 헤비하게 이용한다고 볼 수 있겠다."
   ]
  },
  {
   "cell_type": "code",
   "execution_count": null,
   "metadata": {},
   "outputs": [],
   "source": [
    "# 나중을 위해 보관\n",
    "\n",
    "distance_medians = medians"
   ]
  },
  {
   "cell_type": "markdown",
   "metadata": {},
   "source": [
    "### 3.2. 이용시간\n",
    "\n",
    "> [흠시] 위 방법과 마찬가지로 살펴보면,"
   ]
  },
  {
   "cell_type": "code",
   "execution_count": null,
   "metadata": {},
   "outputs": [],
   "source": [
    "# 전체 분포\n",
    "\n",
    "time = df['이용시간']\n",
    "time = time[time != 0]\n",
    "\n",
    "draw_box_distplot(time, \"이용시간(분) 분포\", \"이용시간(분)\", color='brown')"
   ]
  },
  {
   "cell_type": "code",
   "execution_count": null,
   "metadata": {},
   "outputs": [],
   "source": [
    "time = remove_outlier(time)\n",
    "draw_box_distplot(time, \"이용시간(분) 분포\", \"이용시간(분)\", axvline=True, color='brown', bins=74)"
   ]
  },
  {
   "cell_type": "code",
   "execution_count": null,
   "metadata": {},
   "outputs": [],
   "source": [
    "print(f\"최빈값: {time.value_counts().idxmax()}분\")\n",
    "print(f\"중간값: {time.median():.0f}분\")\n",
    "print(f\"절사평균(5~95%): {time.mean():.0f}분\")"
   ]
  },
  {
   "cell_type": "markdown",
   "metadata": {},
   "source": [
    "> [흠시] 이용거리 분포와 거의 동일하다.  \n",
    "최빈값은 6분이고, 중간값은 17분이다."
   ]
  },
  {
   "cell_type": "code",
   "execution_count": null,
   "metadata": {},
   "outputs": [],
   "source": [
    "time = df[['대여지역', '이용시간']]\n",
    "time = time[time['이용시간'] != 0]\n",
    "\n",
    "usetime_df_total = (time\n",
    "    .groupby('대여지역')\n",
    "    .apply(lambda df: remove_outlier(df['이용시간']))\n",
    "    .reset_index(level=0)\n",
    ")\n",
    "usetime_df_total.head()"
   ]
  },
  {
   "cell_type": "code",
   "execution_count": null,
   "metadata": {},
   "outputs": [],
   "source": [
    "medians = (usetime_df_total\n",
    "    .groupby('대여지역')\n",
    "    .median()\n",
    "    .squeeze()\n",
    "    .sort_values(ascending=False)\n",
    ")\n",
    "medians.head()"
   ]
  },
  {
   "cell_type": "code",
   "execution_count": null,
   "metadata": {},
   "outputs": [],
   "source": [
    "_, ax = plt.subplots(figsize=(15, 4))\n",
    "sns.violinplot(\n",
    "    x='대여지역',\n",
    "    y='이용시간',\n",
    "    data=usetime_df_total,\n",
    "    order=medians.index,\n",
    "    palette=\"YlOrBr_r\",\n",
    "    ax=ax\n",
    ")\n",
    "ax.set_xlabel(\"\")\n",
    "ax.set_ylabel(\"이용시간 (분)\")\n",
    "ax.set_frame_on(False)"
   ]
  },
  {
   "cell_type": "code",
   "execution_count": null,
   "metadata": {},
   "outputs": [],
   "source": [
    "_, ax = plt.subplots(figsize=(15, 4))\n",
    "sns.barplot(\n",
    "    x='대여지역',\n",
    "    y='이용시간',\n",
    "    data=medians.reset_index(),\n",
    "    palette=\"YlOrBr_r\",\n",
    "    ax=ax\n",
    ")\n",
    "ax.set_xlabel(\"\")\n",
    "ax.set_ylabel(\"\")\n",
    "ax.set_title(\"지역별 이용시간(분) 중간값\")\n",
    "ax.set_frame_on(False)"
   ]
  },
  {
   "cell_type": "markdown",
   "metadata": {},
   "source": [
    "> [흠시] 위와 비슷하다.  \n",
    "다만 양천구에 길었던 꼬리가 없어졌다.  \n",
    "이용거리가 길었지만 이용시간은 짧았던 이용자... 엄청난 속도로 따릉이를 탄 사람이 양천구에 있나보다..."
   ]
  },
  {
   "cell_type": "code",
   "execution_count": null,
   "metadata": {},
   "outputs": [],
   "source": [
    "# 나중을 위해 보관\n",
    "\n",
    "usetime_medians = medians"
   ]
  },
  {
   "cell_type": "markdown",
   "metadata": {},
   "source": [
    "> [흠시] 지도에 위 내용을 표현하면,"
   ]
  },
  {
   "cell_type": "code",
   "execution_count": null,
   "metadata": {},
   "outputs": [],
   "source": [
    "# 왼쪽(보라색)은 이용거리, 오른쪽(갈색)은 이용시간을 나타낸다.\n",
    "\n",
    "import json, folium, folium.plugins\n",
    "\n",
    "geo_path = '../data/seoul_municipalities_geo_simple.json'\n",
    "with open(geo_path, encoding='utf-8') as fp:\n",
    "    geo_str = json.load(fp)\n",
    "\n",
    "bike_map = folium.plugins.DualMap(\n",
    "    location=[37.541, 126.986],\n",
    "    zoom_start=10,\n",
    "    tiles='CartoDB positron',\n",
    "    zoom_control=False\n",
    ")\n",
    "folium.Choropleth(geo_str,\n",
    "    data=distance_medians,\n",
    "    key_on='feature.properties.SIG_KOR_NM', \n",
    "    fill_color='Purples',\n",
    "    line_color='grey',\n",
    "    line_opacity=0.5\n",
    ").add_to(bike_map.m1)\n",
    "folium.Choropleth(geo_str,\n",
    "    data=usetime_medians,\n",
    "    key_on='feature.properties.SIG_KOR_NM', \n",
    "    fill_color='YlOrBr',\n",
    "    line_color='grey',\n",
    "    line_opacity=0.5\n",
    ").add_to(bike_map.m2)\n",
    "bike_map"
   ]
  },
  {
   "cell_type": "markdown",
   "metadata": {},
   "source": [
    "> [흠시]  \n",
    "> - **평균 이용거리, 이용시간이 높은 지역은 용산구다.**\n",
    "> - 이용거리 - 이용시간은 높은 선형관계다(상관계수 0.94). 멀리가려면, 오래 이용해야하니, 상식적으로 당연한 결과이긴 하다."
   ]
  },
  {
   "cell_type": "markdown",
   "metadata": {},
   "source": [
    "---\n",
    "## 4. 유출/유입이 많은 지역은 어딜까?\n",
    "\n",
    "> [흠시] 이제 드디어, 유출/유입에 대한 이야기를 써볼까 한다.  \n",
    "유출/유입량이란, 어떤 지역에서 다른 지역으로 넘어가거나 넘어오는 따릉이 이용량을 말한다.  \n",
    "즉, 지역구간 이동하는 트래픽에 대해 알아볼 수 있다.\n",
    "\n",
    "> [흠시] 먼저, 각 지역별, 사용량의 스케일이 다르므로, 절대량이 아닌 상대비율로 지역간 비교를 해본다.   \n",
    "여기서는 유출/유입 비율을 사용할 건데, 아래와 같이 정의한다.  \n",
    ">> `유출비율 = A지역 대여 후 타 지역에 반납한 량 / A지역 총 대여량`  \n",
    "`유입비율 = 타 지역에서 대여 후 A지역에 반납한 량 / A지역 총 반납량`\n",
    "\n",
    "> [흠시] 즉, 한마디로 말해, **해당 지역의 총 대여(반납)량 중에 몇 %가 타지역에 반납(대여)되었는지**를 말하는 것이다."
   ]
  },
  {
   "cell_type": "markdown",
   "metadata": {},
   "source": [
    "### 4.1. 유출/유입비율 큰 순으로 보기\n",
    "\n",
    "> [흠시] 가장 먼저 생각해볼 수 있는 것은, 정말 말그대로 유출비율과 유입비율이 큰 지역을 살펴보는 것이다.  \n",
    "바로 지도로 시각화 해보자."
   ]
  },
  {
   "cell_type": "code",
   "execution_count": null,
   "metadata": {},
   "outputs": [],
   "source": [
    "# 유출비율\n",
    "\n",
    "outflow_by_region = df[['대여지역', '반납지역']].groupby('대여지역').apply(\n",
    "    lambda df: (df['대여지역'] != df['반납지역']).sum() / len(df) * 100\n",
    ").sort_values(ascending=False)\n",
    "\n",
    "outflow_by_region.name = '유출비율'\n",
    "outflow_by_region"
   ]
  },
  {
   "cell_type": "code",
   "execution_count": null,
   "metadata": {},
   "outputs": [],
   "source": [
    "_, ax = plt.subplots(figsize=(15, 5))\n",
    "sns.barplot(\n",
    "    x='대여지역',\n",
    "    y='유출비율',\n",
    "    data=outflow_by_region.reset_index(),\n",
    "    order=outflow_by_region.index,\n",
    "    palette='Reds_r'\n",
    ")\n",
    "ax.set_title(\"지역별 유출비율(%)\")\n",
    "ax.set_frame_on(False)"
   ]
  },
  {
   "cell_type": "code",
   "execution_count": null,
   "metadata": {},
   "outputs": [],
   "source": [
    "bike_map = folium.Map(\n",
    "    location=[37.541, 126.986],\n",
    "    zoom_start=10.8,\n",
    "    tiles='CartoDB positron',\n",
    "    zoom_control=False\n",
    ")\n",
    "folium.Choropleth(geo_str,\n",
    "    data=outflow_by_region,\n",
    "    key_on='feature.properties.SIG_KOR_NM', \n",
    "    fill_color='Reds',\n",
    "    line_color='grey',\n",
    "    line_opacity=0.5\n",
    ").add_to(bike_map)\n",
    "bike_map"
   ]
  },
  {
   "cell_type": "code",
   "execution_count": null,
   "metadata": {},
   "outputs": [],
   "source": [
    "# 유입비율\n",
    "\n",
    "inflow_by_region = df[['대여지역', '반납지역']].groupby('반납지역').apply(\n",
    "    lambda df: (df['대여지역'] != df['반납지역']).sum() / len(df) * 100\n",
    ").sort_values(ascending=False)\n",
    "\n",
    "inflow_by_region.name = '유입비율'\n",
    "inflow_by_region"
   ]
  },
  {
   "cell_type": "code",
   "execution_count": null,
   "metadata": {},
   "outputs": [],
   "source": [
    "_, ax = plt.subplots(figsize=(15, 5))\n",
    "sns.barplot(\n",
    "    x='반납지역',\n",
    "    y='유입비율',\n",
    "    data=inflow_by_region.reset_index(),\n",
    "    order=inflow_by_region.index,\n",
    "    palette='Greens_r'\n",
    ")\n",
    "ax.set_title(\"지역별 유입비율(%)\")\n",
    "ax.set_frame_on(False)"
   ]
  },
  {
   "cell_type": "code",
   "execution_count": null,
   "metadata": {},
   "outputs": [],
   "source": [
    "bike_map = folium.Map(\n",
    "    location=[37.541, 126.986],\n",
    "    zoom_start=10.8,\n",
    "    tiles='CartoDB positron',\n",
    "    zoom_control=False\n",
    ")\n",
    "folium.Choropleth(geo_str,\n",
    "    data=inflow_by_region,\n",
    "    key_on='feature.properties.SIG_KOR_NM', \n",
    "    fill_color='Greens',\n",
    "    line_color='grey',\n",
    "    line_opacity=0.5\n",
    ").add_to(bike_map)\n",
    "bike_map"
   ]
  },
  {
   "cell_type": "code",
   "execution_count": null,
   "metadata": {},
   "outputs": [],
   "source": [
    "# [흠시] 유출이 많을수록, 유입이 많은걸까?\n",
    "\n",
    "inoutflow_by_region = pd.DataFrame(\n",
    "    data={'유출비율': outflow_by_region, '유입비율': inflow_by_region}\n",
    ").sort_values(by='유출비율', ascending=False)\n",
    "inoutflow_by_region.head()"
   ]
  },
  {
   "cell_type": "code",
   "execution_count": null,
   "metadata": {},
   "outputs": [],
   "source": [
    "ax = inoutflow_by_region.plot(\n",
    "    kind='bar',\n",
    "    rot=0,\n",
    "    color=['C3', 'C2'], # red, green\n",
    "    figsize=(15, 5)\n",
    ")\n",
    "ax.set_title(\"지역별 유출/유입비율(%)\")\n",
    "ax.legend(frameon=False)\n",
    "ax.set_frame_on(False)"
   ]
  },
  {
   "cell_type": "code",
   "execution_count": null,
   "metadata": {},
   "outputs": [],
   "source": [
    "# 왼쪽(빨간색)은 유출비율, 오른쪽(초록색)은 유입비율을 나타낸다.\n",
    "\n",
    "bike_map = folium.plugins.DualMap(\n",
    "    location=[37.541, 126.986],\n",
    "    zoom_start=10.8,\n",
    "    tiles='CartoDB positron',\n",
    "    zoom_control=False\n",
    ")\n",
    "folium.Choropleth(geo_str,\n",
    "    data=outflow_by_region,\n",
    "    key_on='feature.properties.SIG_KOR_NM', \n",
    "    fill_color='Reds',\n",
    "    line_color='grey'\n",
    ").add_to(bike_map.m1)\n",
    "folium.Choropleth(geo_str,\n",
    "    data=inflow_by_region,\n",
    "    key_on='feature.properties.SIG_KOR_NM', \n",
    "    fill_color='Greens',\n",
    "    line_color='grey'\n",
    ").add_to(bike_map.m2)\n",
    "bike_map"
   ]
  },
  {
   "cell_type": "code",
   "execution_count": null,
   "metadata": {},
   "outputs": [],
   "source": [
    "inoutflow_by_region.corr()"
   ]
  },
  {
   "cell_type": "markdown",
   "metadata": {},
   "source": [
    "> [흠시]  \n",
    "> - 한 눈에봐도 중구가 눈에 띈다. 또한, 서울 안쪽지역, 즉 **중심부가 확실히 유입/유출 비율이 높다.**\n",
    "> - **유출비율과 유입비율은 거의 동일한 분포**를 가진다. 즉 유출비율이 높은 지역은 유입비율도 높다. (상관계수 0.98)"
   ]
  },
  {
   "cell_type": "markdown",
   "metadata": {},
   "source": [
    "### 4.2. 시간을 더해서 살펴보기\n",
    "\n",
    "> [흠시] 이번엔 시간의 개념을 더해서 살펴보자. (평일 기준)"
   ]
  },
  {
   "cell_type": "code",
   "execution_count": null,
   "metadata": {},
   "outputs": [],
   "source": [
    "# 유출\n",
    "# [흠시] 조금 더 상세히 알아보기 위해, 각 지역이, 시간대별 대여량 중 외부 지역으로 유출하는 비율을 알아보자.\n",
    "\n",
    "df_weekday = df[df['대여요일'] < 5]\n",
    "\n",
    "outflow_by_region_weekday = df_weekday.groupby('대여지역').apply(\n",
    "    lambda x: x[x['대여지역'] != x['반납지역']].groupby('대여시간').size() \\\n",
    "               / x.groupby('대여시간').size() * 100\n",
    ")\n",
    "outflow_by_region_weekday.head()"
   ]
  },
  {
   "cell_type": "code",
   "execution_count": null,
   "metadata": {},
   "outputs": [],
   "source": [
    "ax = outflow_by_region_weekday.T.plot.line(\n",
    "    style='.-',\n",
    "    rot=0,\n",
    "    xticks=range(24),\n",
    "    title=\"지역별, 각 시간의 유출비율 (%, 평일)\",\n",
    "    figsize=(15, 10)\n",
    ")\n",
    "ax.set_frame_on(False)"
   ]
  },
  {
   "cell_type": "code",
   "execution_count": null,
   "metadata": {},
   "outputs": [],
   "source": [
    "_, ax = plt.subplots(figsize=(15,10))\n",
    "sns.heatmap(\n",
    "    data=outflow_by_region_weekday,\n",
    "    vmin=0,\n",
    "    vmax=100,\n",
    "    cmap='Reds',\n",
    "    annot=True,\n",
    "    fmt=\".1f\",\n",
    "    linewidth=1,\n",
    "    cbar=False,\n",
    "    square=False,\n",
    "    ax=ax\n",
    ")\n",
    "ax.set_title(\"지역별, 각 시간의 유출비율 (%, 평일)\");"
   ]
  },
  {
   "cell_type": "code",
   "execution_count": null,
   "metadata": {},
   "outputs": [],
   "source": [
    "# 유입\n",
    "\n",
    "inflow_by_region_weekday = df_weekday.groupby('반납지역').apply(\n",
    "    lambda df: df[df['대여지역'] != df['반납지역']].groupby('반납시간').size() \\\n",
    "               / df.groupby('반납시간').size() * 100\n",
    ")\n",
    "inflow_by_region_weekday.head()"
   ]
  },
  {
   "cell_type": "code",
   "execution_count": null,
   "metadata": {},
   "outputs": [],
   "source": [
    "ax = inflow_by_region_weekday.T.plot.line(\n",
    "    style='.-',\n",
    "    rot=0,\n",
    "    xticks=range(24),\n",
    "    title=\"지역별, 각 시간의 유입비율 (%, 평일)\",\n",
    "    figsize=(15, 10)\n",
    ")\n",
    "ax.set_frame_on(False)"
   ]
  },
  {
   "cell_type": "code",
   "execution_count": null,
   "metadata": {},
   "outputs": [],
   "source": [
    "_, ax = plt.subplots(figsize=(15,10))\n",
    "sns.heatmap(\n",
    "    data=inflow_by_region_weekday,\n",
    "    vmin=0,\n",
    "    vmax=100,\n",
    "    cmap='Greens',\n",
    "    annot=True,\n",
    "    fmt=\".1f\",\n",
    "    linewidth=1,\n",
    "    cbar=False,\n",
    "    square=False,\n",
    "    ax=ax\n",
    ")\n",
    "ax.set_title(\"지역별, 각 시간의 유입비율 (%, 평일)\");"
   ]
  },
  {
   "cell_type": "markdown",
   "metadata": {},
   "source": [
    "> [흠시] 시각화해서 보니, 시간에 따른 **유출비율과 유입비율 패턴이 조금 다르다!**  \n",
    "얼핏봐도, 위 두 히트맵에의 색 분포가 조금 다름을 느낄 수 있을 것이다.  \n",
    "자연스레 이런 생각이 든다.  \n",
    "> > 시간에 따라, 유출 혹은 유입비율이 비슷한 패턴을 가지는 지역들이 있을까?\n",
    "\n",
    "> [흠시] 같은 시간대에, 유출비율과 유입비율을 동시에 확인해야 하므로, **측정값 = (유입비율에서 유출비율을 뺀 값)**을 지표로 삼자.  \n",
    "즉, 측정값 > 0 이면, 해당 시간에 유입비율이 더 많다는 것이고, 측정값 < 0 이면, 유출비율이 더 많다는 것이다. \n",
    "\n",
    "> [흠시] 이렇게 시간에 따라 측정값 패턴이 비슷한 지역들끼리 clustermap 으로 묶어보자."
   ]
  },
  {
   "cell_type": "code",
   "execution_count": null,
   "metadata": {},
   "outputs": [],
   "source": [
    "inout_ratio = inflow_by_region_weekday - outflow_by_region_weekday\n",
    "inout_ratio.head()"
   ]
  },
  {
   "cell_type": "markdown",
   "metadata": {},
   "source": [
    "#### [Plot a matrix dataset as a hierarchically-clustered heatmap](https://seaborn.pydata.org/generated/seaborn.clustermap.html)\n",
    "\n",
    "```python\n",
    "seaborn.clustermap(data, pivot_kws=None, method='average', metric='euclidean', z_score=None, standard_scale=None, figsize=(10, 10), cbar_kws=None, row_cluster=True, col_cluster=True, row_linkage=None, col_linkage=None, row_colors=None, col_colors=None, mask=None, dendrogram_ratio=0.2, colors_ratio=0.03, cbar_pos=(0.02, 0.8, 0.05, 0.18), tree_kws=None, **kwargs)\n",
    "```\n",
    "\n",
    "- The returned object has a `savefig` method that should be used if you want to save the figure object without clipping the dendrograms. \n",
    "- To access the reordered row indices, use: `clustergrid.dendrogram_row.reordered_ind`\n",
    "- Column indices, use: `clustergrid.dendrogram_col.reordered_ind`"
   ]
  },
  {
   "cell_type": "code",
   "execution_count": null,
   "metadata": {},
   "outputs": [],
   "source": [
    "clustergrid = sns.clustermap(inout_ratio.T.corr(),\n",
    "    cmap='Blues',\n",
    "    vmin=-1,\n",
    "    vmax=1,\n",
    "    cbar=True\n",
    ")"
   ]
  },
  {
   "cell_type": "markdown",
   "metadata": {},
   "source": [
    "> [흠시] 어느정도 뚜렷히 보인다.  \n",
    "시각화 이후 클러스터에 A, B, C 라는 이름을 주었다.\n",
    "\n",
    "> [흠시] 이제 측정값을 다시 시간에 따라서 살펴보면,"
   ]
  },
  {
   "cell_type": "code",
   "execution_count": null,
   "metadata": {},
   "outputs": [],
   "source": [
    "reordered_ind = clustergrid.dendrogram_row.reordered_ind\n",
    "inout_ratio.index[reordered_ind]"
   ]
  },
  {
   "cell_type": "code",
   "execution_count": null,
   "metadata": {},
   "outputs": [],
   "source": [
    "inout_ratio = inout_ratio.reindex(inout_ratio.index[reordered_ind])\n",
    "# or inout_ratio.reset_index().reindex(reordered_ind).set_index('반납지역')\n",
    "inout_ratio.head()"
   ]
  },
  {
   "cell_type": "code",
   "execution_count": null,
   "metadata": {},
   "outputs": [],
   "source": [
    "# [흠시] 시간에 따른 각 지역별 (유입 - 유출비율) 히트맵. 빨간색은 유출이 압도함을, 초록색은 유입이 압도함을 의미한다.\n",
    "\n",
    "_, ax = plt.subplots(figsize=(15, 10))\n",
    "sns.heatmap(inout_ratio,\n",
    "    vmin=-32,\n",
    "    vmax=32,\n",
    "    square=False,\n",
    "    annot=True,\n",
    "    fmt=\".1f\",\n",
    "    cmap='RdYlGn', \n",
    "    cbar=False,\n",
    "    ax=ax\n",
    ")\n",
    "ax.set_title(\"지역별, 각 시간의 유입비율-유출비율(%, 평일)\")\n",
    "ax.set_ylabel(\"\");"
   ]
  },
  {
   "cell_type": "markdown",
   "metadata": {},
   "source": [
    "![](k.kakaocdn.net_dn_bhggpc_btqwR3ZVEbs_tDBj9QjXSL0IPRR4USH76K_img.png)"
   ]
  },
  {
   "cell_type": "markdown",
   "metadata": {},
   "source": [
    "> [흠시] 실제로 의미있게 클러스터링 된 듯하다.\n",
    "\n",
    "> [흠시] **A 클러스터**에 속한 지역들은 출근시간에 유입이 많고, 퇴근시간에 유출이 많은 지역이다. 아무래도, 상업지역이지 않을까 싶다.  \n",
    "**B 클러스터**에 속한 지역들은 A 클러스터와 정반대의 양상이다. 출근하는 사람들이 많이 살고있는 주거지역일 듯 싶다.  \n",
    "**C 클러스터**는 A, B 두 클러스터에 속하지 않는 지역들이다. 다른 두 클러스터에 비해, 패턴이 뚜렷치 않다.\n",
    "\n",
    "> [흠시] 한편, 몇몇 눈에띄는 이상치(?) 들이 보이는데,  \n",
    "> - 새벽 1-3시에 중구에 눈에 띄게 유출비율이 높다는 점.\n",
    "> - 새벽 5시에 금천구와 구로구에 유입비율이 유독 높다는 점.\n",
    "\n",
    "> [흠시] 정도가 보인다. 이유는 잘 모르겠다.  \n",
    "또 한편으로, 출퇴근 시간대를 잘보면, 유입비율이 높은 시간대는 유출비율이 높은 시간대보다 한 시간씩 밀려있는 것을 볼 수 있다."
   ]
  },
  {
   "cell_type": "markdown",
   "metadata": {},
   "source": [
    "### 4.3. 사람들이 주로 출/퇴근하는 지역은 어딜까?\n",
    "\n",
    "> [흠시] 위 히트맵에서, 출퇴근 시간대의 유출-유입비율을 이번엔 지도로 시각화 해보자.  \n",
    "출근시간은 7시\\~10시, 퇴근시간은 17\\~20시 사이로 가정하였다."
   ]
  },
  {
   "cell_type": "code",
   "execution_count": null,
   "metadata": {},
   "outputs": [],
   "source": [
    "# 출근시간대\n",
    "\n",
    "mean_inout_morning = inout_ratio.iloc[:, 7:10].mean(axis=1)\n",
    "mean_inout_morning"
   ]
  },
  {
   "cell_type": "code",
   "execution_count": null,
   "metadata": {},
   "outputs": [],
   "source": [
    "# 퇴근시간대\n",
    "\n",
    "mean_inout_night = inout_ratio.iloc[:, 17:20].mean(axis=1)\n",
    "mean_inout_night"
   ]
  },
  {
   "cell_type": "code",
   "execution_count": null,
   "metadata": {},
   "outputs": [],
   "source": [
    "# 왼쪽은 출근시간대, 오른쪽은 퇴근시간대를 나타낸다.\n",
    "\n",
    "bike_map = folium.plugins.DualMap(\n",
    "    location=[37.541, 126.986],\n",
    "    zoom_start=10,\n",
    "    tiles='CartoDB positron',\n",
    "    zoom_control=False\n",
    ")\n",
    "folium.Choropleth(geo_str,\n",
    "    data=mean_inout_morning,\n",
    "    key_on='feature.properties.SIG_KOR_NM', \n",
    "    fill_color='RdYlGn',\n",
    "    line_color='grey'\n",
    ").add_to(bike_map.m1)\n",
    "folium.Choropleth(geo_str,\n",
    "    data=mean_inout_night,\n",
    "    key_on='feature.properties.SIG_KOR_NM', \n",
    "    fill_color='RdYlGn',\n",
    "    line_color='grey'\n",
    ").add_to(bike_map.m2)\n",
    "bike_map"
   ]
  },
  {
   "cell_type": "markdown",
   "metadata": {},
   "source": [
    "> [흠시] 출근시간대 유출비율이 높았던 지역이, 퇴근시간대에는 유입비율이 더 높은 것을 알 수 있다."
   ]
  },
  {
   "cell_type": "markdown",
   "metadata": {},
   "source": [
    "### 4.4. 출/퇴근시간대에 유입/유출이 활발한 지역은 어딜까?\n",
    "\n",
    "> [흠시] 이번에 궁금한 것은, 위와 같은 유입-유출의 변화가 가장 드라마틱한 지역은 어딜까? 이다.  \n",
    "예를 들어, 출근 시간대에 유입비율이 아주 높고, 퇴근시간에는 유출비율이 아주 높은 지역은 유입-유출의 변화가 드라마틱한 지역이라고 할 수 있다.  \n",
    "수식으로는, 절대값(유입비율) + 절대값(유출비율) 의 값인데, 이 값이 제일 큰 지역이 어딘지 살펴보자."
   ]
  },
  {
   "cell_type": "code",
   "execution_count": null,
   "metadata": {},
   "outputs": [],
   "source": [
    "diff_inout_abs = (abs(mean_inout_morning) + abs(mean_inout_night)).sort_values()\n",
    "diff_inout_abs"
   ]
  },
  {
   "cell_type": "code",
   "execution_count": null,
   "metadata": {},
   "outputs": [],
   "source": [
    "# 차이값이 큰 순으로 정렬\n",
    "\n",
    "ax = diff_inout_abs.plot(\n",
    "    kind='barh',\n",
    "    rot=0,\n",
    "    color='grey',\n",
    "    xlabel=\"\",\n",
    "    ylabel=\"\",\n",
    "    title=\"출/퇴근 시간에 유입-유출 비율 차이(절대값)\",\n",
    "    figsize=(15, 10)\n",
    ")\n",
    "ax.set_frame_on(False)\n",
    "for p in ax.patches: \n",
    "    x, y, width, height = p.get_bbox().bounds\n",
    "    ax.text(width+0.3, y+height/2, f\"{width:.1f}%\", va='center')"
   ]
  },
  {
   "cell_type": "markdown",
   "metadata": {},
   "source": [
    "> [흠시] **금천구가 32.8% 차이로 가장 크다!**  \n",
    "다음은 은평구, 관악구 순이 되겠다.\n",
    "\n",
    "> [흠시] 이를 보기 쉽게 지도로 시각화 하면, 아래와 같다."
   ]
  },
  {
   "cell_type": "code",
   "execution_count": null,
   "metadata": {},
   "outputs": [],
   "source": [
    "# 색이 진할수록 값이 크다.\n",
    "\n",
    "bike_map = folium.Map(\n",
    "    location=[37.541, 126.986],\n",
    "    zoom_start=10.8,\n",
    "    tiles='CartoDB positron',\n",
    "    zoom_control=False\n",
    ")\n",
    "folium.Choropleth(geo_str,\n",
    "    data=diff_inout_abs,\n",
    "    key_on='feature.properties.SIG_KOR_NM', \n",
    "    fill_color='Greys'\n",
    ").add_to(bike_map)\n",
    "bike_map"
   ]
  },
  {
   "cell_type": "markdown",
   "metadata": {},
   "source": [
    "---\n",
    "## 정리\n",
    "\n",
    "모든 내용을 다 정리하기보단, 따릉이 이용량에 특징있는 지역구만 정리해보면, 다음과 같다.\n",
    "\n",
    "1. 일반적으로 이용량이 많은 지역: 마포, 영등포, 송파구\n",
    "2. 평균 이용거리 및 이용시간이 큰 지역: 용산구\n",
    "3. 유출비율과 유입비율이 높은 지역: 중구\n",
    "4. 출/퇴근 시간에 유입/유출이 드라마틱하게 차이나는 지역: 금천구, 은평구"
   ]
  }
 ],
 "metadata": {
  "kernelspec": {
   "display_name": "Python 3",
   "language": "python",
   "name": "python3"
  },
  "language_info": {
   "codemirror_mode": {
    "name": "ipython",
    "version": 3
   },
   "file_extension": ".py",
   "mimetype": "text/x-python",
   "name": "python",
   "nbconvert_exporter": "python",
   "pygments_lexer": "ipython3",
   "version": "3.8.5"
  }
 },
 "nbformat": 4,
 "nbformat_minor": 4
}
